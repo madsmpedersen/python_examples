{
 "cells": [
  {
   "cell_type": "markdown",
   "id": "340df7d3",
   "metadata": {},
   "source": [
    "# Shared memory vs array parsing\n",
    "\n",
    "**Conclusions:**\n",
    "- Data to subprocesss:\n",
    "  - The forking mechanism on linux allows much faster passing of read-only data to subprocesses (not possible on windows)\n",
    "- Data from subprocess:\n",
    "  - Sharing numpy array via multiprocessing.Array seems to be much slower\n",
    "\n"
   ]
  },
  {
   "cell_type": "code",
   "execution_count": 1,
   "id": "911aa643",
   "metadata": {},
   "outputs": [
    {
     "name": "stdout",
     "output_type": "stream",
     "text": [
      "32\n"
     ]
    }
   ],
   "source": [
    "from multiprocessing import Array, Pool, cpu_count\n",
    "print (cpu_count())"
   ]
  },
  {
   "cell_type": "markdown",
   "id": "270c8a8b",
   "metadata": {},
   "source": [
    "# Data to subprocess\n",
    "On linux, the fork mechanism allows us to pass data (read only) to subprocesses much faster\n",
    "\n",
    "Example:\n",
    "```\n",
    "main process:\n",
    "  create array\n",
    "Subprocesses\n",
    "  return array[i]*2\n",
    "main process:\n",
    "  collect doubled array \n",
    "```"
   ]
  },
  {
   "cell_type": "code",
   "execution_count": 2,
   "id": "01c16eff",
   "metadata": {},
   "outputs": [
    {
     "name": "stdout",
     "output_type": "stream",
     "text": [
      "Overwriting tmp.py\n"
     ]
    }
   ],
   "source": [
    "%%writefile tmp.py\n",
    "def f_arr_forked(i):\n",
    "    return a[i]*2\n",
    "\n",
    "def f_arr_passed(args):\n",
    "    arr,i = args\n",
    "    return arr[i]*2\n"
   ]
  },
  {
   "cell_type": "code",
   "execution_count": 3,
   "id": "30ccfac9",
   "metadata": {},
   "outputs": [
    {
     "data": {
      "text/plain": [
       "<module 'tmp' from '/home/mmpe/github/python_examples/tmp.py'>"
      ]
     },
     "execution_count": 3,
     "metadata": {},
     "output_type": "execute_result"
    }
   ],
   "source": [
    "from multiprocessing import Pool\n",
    "import numpy as np\n",
    "\n",
    "import tmp\n",
    "import importlib\n",
    "importlib.reload(tmp)"
   ]
  },
  {
   "cell_type": "code",
   "execution_count": 11,
   "id": "9ce5e00f",
   "metadata": {},
   "outputs": [],
   "source": [
    "N = 1000*1000*10"
   ]
  },
  {
   "cell_type": "code",
   "execution_count": 12,
   "id": "e1a3d600",
   "metadata": {},
   "outputs": [
    {
     "name": "stdout",
     "output_type": "stream",
     "text": [
      "(10000000,)\n",
      "[0 2 4 6]\n",
      "4.26 s ± 0 ns per loop (mean ± std. dev. of 1 run, 1 loop each)\n"
     ]
    }
   ],
   "source": [
    "%%timeit -n 1 -r 1\n",
    "tmp.a = np.arange(N) # tmp.a is accessible from subprocesses on linux due to forking\n",
    "with Pool() as p:\n",
    "    b = np.array(p.map(tmp.f_arr_forked, range(N)))\n",
    "print (b.shape)\n",
    "print (b[:4])"
   ]
  },
  {
   "cell_type": "code",
   "execution_count": 13,
   "id": "1c33652f",
   "metadata": {},
   "outputs": [
    {
     "name": "stdout",
     "output_type": "stream",
     "text": [
      "(10000000,)\n",
      "[0 2 4 6]\n",
      "11.5 s ± 0 ns per loop (mean ± std. dev. of 1 run, 1 loop each)\n"
     ]
    }
   ],
   "source": [
    "%%timeit -n 1 -r 1\n",
    "a = np.arange(N)\n",
    "args_lst = ((a,i) for i in range(N))\n",
    "with Pool() as p:\n",
    "    b = np.array(list(p.imap(tmp.f_arr_passed, args_lst, chunksize=N//(cpu_count()*2))))\n",
    "print (b.shape)\n",
    "print (b[:4])"
   ]
  },
  {
   "cell_type": "markdown",
   "id": "06a20f4f",
   "metadata": {},
   "source": [
    "## Data from subprocess"
   ]
  },
  {
   "cell_type": "markdown",
   "id": "5caaf162",
   "metadata": {},
   "source": [
    "Example:\n",
    "```\n",
    "main process:\n",
    "  create array\n",
    "Subprocesses\n",
    "  add `i` to subset of array\n",
    "```"
   ]
  },
  {
   "cell_type": "code",
   "execution_count": 2,
   "id": "fa9a55d6",
   "metadata": {},
   "outputs": [
    {
     "name": "stdout",
     "output_type": "stream",
     "text": [
      "Overwriting tmp.py\n"
     ]
    }
   ],
   "source": [
    "%%writefile tmp.py\n",
    "import numpy as np\n",
    "\n",
    "class MyData():\n",
    "    data = None\n",
    "\n",
    "\n",
    "myData = MyData()\n",
    "\n",
    "\n",
    "def initProcess(data):\n",
    "    myData.data = data\n",
    "\n",
    "\n",
    "def f_shared(args):\n",
    "    i, N2, N3 = args\n",
    "    d = np.full((N2, N3), i).flatten()\n",
    "    N = N2 * N3\n",
    "    i1, i2 = i * N, (i + 1) * N\n",
    "    myData.data[i1:i2] += d\n",
    "\n",
    "\n",
    "def f_passing(args):\n",
    "    data, i, N2, N3 = args\n",
    "    return data+np.full((N2, N3), i)\n"
   ]
  },
  {
   "cell_type": "code",
   "execution_count": 3,
   "id": "15f530d6",
   "metadata": {},
   "outputs": [],
   "source": [
    "import tmp\n",
    "import importlib\n",
    "importlib.reload(tmp)\n",
    "import numpy as np\n",
    "from multiprocessing import Array, Pool\n",
    "\n",
    "def run_shared_lock(arr, args_lst):\n",
    "    # create shared array and let subprocesses update\n",
    "    N1 = len(args_lst)\n",
    "    N2, N3 = args_lst[0][1:]\n",
    "    unshared_arr = arr\n",
    "    share_arr = Array('f', unshared_arr.flatten(), lock=True)\n",
    "\n",
    "    with Pool(initializer=tmp.initProcess, initargs=(share_arr,)) as pool:\n",
    "        pool.map(tmp.f_shared, args_lst)\n",
    "\n",
    "    b = np.frombuffer(share_arr.get_obj(), dtype=np.float32).reshape(unshared_arr.shape)\n",
    "    print(b.shape)\n",
    "\n",
    "def run_shared_nolock(arr, args_lst):\n",
    "    # create shared array and let subprocesses update\n",
    "    N1 = len(args_lst)\n",
    "    N2, N3 = args_lst[0][1:]\n",
    "    unshared_arr = arr\n",
    "    share_arr = Array('f', unshared_arr.flatten(), lock=False)\n",
    "\n",
    "    with Pool(initializer=tmp.initProcess, initargs=(share_arr,)) as pool:\n",
    "        pool.map(tmp.f_shared, args_lst)\n",
    "\n",
    "    b = np.frombuffer(share_arr, dtype=np.float32).reshape(unshared_arr.shape)\n",
    "    print(b.shape)\n",
    "\n",
    "\n",
    "def run_passing(arr, args_lst):\n",
    "    args_lst = [(arr[i],i,N2,N3) for i,N2,N3 in args_lst]\n",
    "    with Pool() as pool:\n",
    "        b = np.array(pool.map(tmp.f_passing, args_lst))\n",
    "    print(b.shape)\n",
    "\n",
    "\n",
    "def run_seq(arr, args_lst):\n",
    "    args_lst = [(arr[i],i,N2,N3) for i,N2,N3 in args_lst]\n",
    "    b = np.array(list(map(tmp.f_passing, args_lst)))\n",
    "    print(b.shape)"
   ]
  },
  {
   "cell_type": "code",
   "execution_count": 4,
   "id": "9f5ec08d",
   "metadata": {},
   "outputs": [],
   "source": [
    "N1, N2, N3 = 8192 *2, 64, 64\n",
    "arr = np.zeros((N1,N2,N3), dtype=np.float32)+0\n",
    "args_lst = [(i, N2, N3) for i in range(N1)]"
   ]
  },
  {
   "cell_type": "code",
   "execution_count": 5,
   "id": "99ddb8ce",
   "metadata": {},
   "outputs": [
    {
     "name": "stdout",
     "output_type": "stream",
     "text": [
      "(16384, 64, 64)\n",
      "22.9 s ± 0 ns per loop (mean ± std. dev. of 1 run, 1 loop each)\n"
     ]
    }
   ],
   "source": [
    "%%timeit -n 1 -r 1\n",
    "run_shared_lock(arr, args_lst)"
   ]
  },
  {
   "cell_type": "code",
   "execution_count": 6,
   "id": "54c46c7a",
   "metadata": {},
   "outputs": [
    {
     "name": "stdout",
     "output_type": "stream",
     "text": [
      "(16384, 64, 64)\n",
      "16.1 s ± 0 ns per loop (mean ± std. dev. of 1 run, 1 loop each)\n"
     ]
    }
   ],
   "source": [
    "%%timeit -n 1 -r 1\n",
    "run_shared_nolock(arr, args_lst)"
   ]
  },
  {
   "cell_type": "code",
   "execution_count": 7,
   "id": "cd6a3e0f",
   "metadata": {},
   "outputs": [
    {
     "name": "stdout",
     "output_type": "stream",
     "text": [
      "(16384, 64, 64)\n",
      "1.1 s ± 0 ns per loop (mean ± std. dev. of 1 run, 1 loop each)\n"
     ]
    }
   ],
   "source": [
    "%%timeit -n 1 -r 1\n",
    "run_passing(arr, args_lst)"
   ]
  },
  {
   "cell_type": "code",
   "execution_count": 8,
   "id": "d022789e",
   "metadata": {},
   "outputs": [
    {
     "name": "stdout",
     "output_type": "stream",
     "text": [
      "(16384, 64, 64)\n",
      "472 ms ± 0 ns per loop (mean ± std. dev. of 1 run, 1 loop each)\n"
     ]
    }
   ],
   "source": [
    "%%timeit -n 1 -r 1\n",
    "run_seq(arr, args_lst)"
   ]
  },
  {
   "cell_type": "code",
   "execution_count": null,
   "id": "939e4c46",
   "metadata": {},
   "outputs": [],
   "source": []
  }
 ],
 "metadata": {
  "kernelspec": {
   "display_name": "Python [conda env:py38]",
   "language": "python",
   "name": "conda-env-py38-py"
  },
  "language_info": {
   "codemirror_mode": {
    "name": "ipython",
    "version": 3
   },
   "file_extension": ".py",
   "mimetype": "text/x-python",
   "name": "python",
   "nbconvert_exporter": "python",
   "pygments_lexer": "ipython3",
   "version": "3.8.12"
  },
  "toc": {
   "base_numbering": 1,
   "nav_menu": {},
   "number_sections": true,
   "sideBar": true,
   "skip_h1_title": false,
   "title_cell": "Table of Contents",
   "title_sidebar": "Contents",
   "toc_cell": false,
   "toc_position": {},
   "toc_section_display": true,
   "toc_window_display": false
  }
 },
 "nbformat": 4,
 "nbformat_minor": 5
}
